{
 "cells": [
  {
   "cell_type": "code",
   "execution_count": 43,
   "metadata": {},
   "outputs": [],
   "source": [
    "import tensorflow as tf\n",
    "(x_train, y_train), (x_test, y_test) = tf.keras.datasets.mnist.load_data()\n"
   ]
  },
  {
   "cell_type": "code",
   "execution_count": 44,
   "metadata": {},
   "outputs": [],
   "source": [
    "x_train = x_train.reshape((x_train.shape[0], -1))\n",
    "x_train = x_train[:1800]\n",
    "y_train = y_train.reshape((y_train.shape[0], -1))\n",
    "y_train = y_train[:1800]\n",
    "x_test = x_test.reshape((x_test.shape[0], -1))\n",
    "x_test = x_test[:100]\n",
    "y_test = y_test.reshape((y_test.shape[0], -1))\n",
    "y_test = y_test[:100]"
   ]
  },
  {
   "cell_type": "code",
   "execution_count": 45,
   "metadata": {},
   "outputs": [
    {
     "name": "stderr",
     "output_type": "stream",
     "text": [
      "C:\\teemporary\\anaconda\\lib\\site-packages\\ipykernel_launcher.py:5: DataConversionWarning: A column-vector y was passed when a 1d array was expected. Please change the shape of y to (n_samples, ), for example using ravel().\n",
      "  \"\"\"\n"
     ]
    },
    {
     "data": {
      "text/plain": [
       "KNeighborsClassifier(algorithm='auto', leaf_size=30, metric='minkowski',\n",
       "                     metric_params=None, n_jobs=None, n_neighbors=3, p=2,\n",
       "                     weights='uniform')"
      ]
     },
     "execution_count": 45,
     "metadata": {},
     "output_type": "execute_result"
    }
   ],
   "source": [
    "from sklearn.neighbors import NearestNeighbors\n",
    "from sklearn.neighbors import KNeighborsClassifier\n",
    "from sklearn.metrics import accuracy_score\n",
    "neigh = KNeighborsClassifier(n_neighbors=3, algorithm='auto')\n",
    "neigh.fit(x_train, y_train)"
   ]
  },
  {
   "cell_type": "code",
   "execution_count": 46,
   "metadata": {},
   "outputs": [
    {
     "data": {
      "text/plain": [
       "0.88"
      ]
     },
     "execution_count": 46,
     "metadata": {},
     "output_type": "execute_result"
    }
   ],
   "source": [
    "y_pred = neigh.predict(x_test)\n",
    "accuracy_score(y_true=y_test, y_pred=y_pred)"
   ]
  },
  {
   "cell_type": "code",
   "execution_count": 47,
   "metadata": {},
   "outputs": [
    {
     "data": {
      "text/plain": [
       "0.88"
      ]
     },
     "execution_count": 47,
     "metadata": {},
     "output_type": "execute_result"
    }
   ],
   "source": [
    "from sklearn.metrics import f1_score\n",
    "f1_score(y_true=y_test, y_pred=y_pred, average='micro')"
   ]
  },
  {
   "cell_type": "code",
   "execution_count": 48,
   "metadata": {},
   "outputs": [],
   "source": [
    "import imgaug as ia\n",
    "import imgaug.augmenters as iaa\n",
    "\n",
    "N = 100\n",
    "\n",
    "def salt_and_pepper(image, percent=0.05):\n",
    "    h, w = image.shape\n",
    "    pixels = np.random.randint(0, w * h, int(percent * w * h))\n",
    "    for p in pixels:\n",
    "        image[p // w][p % w] = np.random.randint(0, 256)\n",
    "    return image\n",
    "\n",
    "def augment(images):\n",
    "    seq = iaa.Sequential(\n",
    "        [\n",
    "            iaa.Crop(px=(1, 2), keep_size=True),\n",
    "            iaa.Sometimes(0.5, iaa.Affine(\n",
    "                rotate=(-20, 20),\n",
    "                mode=ia.ALL\n",
    "            )),\n",
    "            iaa.SomeOf((0, 2),\n",
    "                [\n",
    "                    iaa.GaussianBlur((0, 0.5)),\n",
    "                    iaa.SaltAndPepper(0.05),\n",
    "                ],\n",
    "                random_order=True\n",
    "            )\n",
    "        ]\n",
    "    )\n",
    "    images_aug = seq(images=images)\n",
    "    return images_aug"
   ]
  },
  {
   "cell_type": "code",
   "execution_count": 49,
   "metadata": {},
   "outputs": [],
   "source": [
    "import numpy as np\n",
    "from sklearn.utils import shuffle\n",
    "(x_train, y_train), (x_test, y_test) = tf.keras.datasets.mnist.load_data()\n",
    "x_train = x_train[:1800]\n",
    "y_train = y_train[:1800]\n",
    "x_test = x_test[:100]\n",
    "y_test = y_test[:100]\n",
    "x_train_a = np.copy(x_train)\n",
    "#for train in x_train_a:\n",
    " #   salt_and_pepper(train, percent=0.05)\n",
    "x_train_a = augment(x_train)\n",
    "y_train_a = y_train\n",
    "\n",
    "x_train_aug = np.concatenate([x_train, x_train_a])\n",
    "y_train_aug = np.concatenate([y_train, y_train_a])\n",
    "\n",
    "x_train_aug, y_train_aug = shuffle(x_train_aug, y_train_aug)\n",
    "\n",
    "x_test = x_test.reshape((x_test.shape[0], -1))\n",
    "x_train_aug = x_train_aug.reshape((x_train_aug.shape[0], -1))"
   ]
  },
  {
   "cell_type": "code",
   "execution_count": 50,
   "metadata": {},
   "outputs": [
    {
     "name": "stderr",
     "output_type": "stream",
     "text": [
      "C:\\Users\\magk9\\AppData\\Roaming\\Python\\Python37\\site-packages\\sklearn\\model_selection\\_split.py:1978: FutureWarning: The default value of cv will change from 3 to 5 in version 0.22. Specify it explicitly to silence this warning.\n",
      "  warnings.warn(CV_WARNING, FutureWarning)\n"
     ]
    },
    {
     "data": {
      "text/plain": [
       "0.87"
      ]
     },
     "execution_count": 50,
     "metadata": {},
     "output_type": "execute_result"
    }
   ],
   "source": [
    "from sklearn.model_selection import GridSearchCV\n",
    "params = {\n",
    "  'n_neighbors': (2, 3, 5),\n",
    "  'weights': ('uniform', 'distance')\n",
    "}\n",
    "knn = KNeighborsClassifier(algorithm='auto')\n",
    "clf = GridSearchCV(knn, params)\n",
    "clf.fit(x_train_aug, y_train_aug)\n",
    "\n",
    "y_pred_best = clf.predict(x_test)\n",
    "accuracy_score(y_true=y_test, y_pred=y_pred_best)"
   ]
  },
  {
   "cell_type": "code",
   "execution_count": 51,
   "metadata": {},
   "outputs": [
    {
     "data": {
      "text/plain": [
       "0.87"
      ]
     },
     "execution_count": 51,
     "metadata": {},
     "output_type": "execute_result"
    }
   ],
   "source": [
    "from sklearn.metrics import f1_score\n",
    "f1_score(y_true=y_test, y_pred=y_pred_best, average='micro')"
   ]
  },
  {
   "cell_type": "code",
   "execution_count": 52,
   "metadata": {},
   "outputs": [],
   "source": [
    "########################################################DRUGI ZBIOR DANYCH #############################"
   ]
  },
  {
   "cell_type": "code",
   "execution_count": 53,
   "metadata": {},
   "outputs": [],
   "source": [
    "#import tensorflow as tf\n",
    "(x_train, y_train), (x_test, y_test) = tf.keras.datasets.fashion_mnist.load_data()"
   ]
  },
  {
   "cell_type": "code",
   "execution_count": 54,
   "metadata": {},
   "outputs": [],
   "source": [
    "x_train = x_train.reshape((x_train.shape[0], -1))\n",
    "x_train = x_train[:1800]\n",
    "y_train = y_train.reshape((y_train.shape[0], -1))\n",
    "y_train = y_train[:1800]\n",
    "x_test = x_test.reshape((x_test.shape[0], -1))\n",
    "x_test = x_test[:100]\n",
    "y_test = y_test.reshape((y_test.shape[0], -1))\n",
    "y_test = y_test[:100]"
   ]
  },
  {
   "cell_type": "code",
   "execution_count": 55,
   "metadata": {},
   "outputs": [
    {
     "name": "stderr",
     "output_type": "stream",
     "text": [
      "C:\\teemporary\\anaconda\\lib\\site-packages\\ipykernel_launcher.py:5: DataConversionWarning: A column-vector y was passed when a 1d array was expected. Please change the shape of y to (n_samples, ), for example using ravel().\n",
      "  \"\"\"\n"
     ]
    },
    {
     "data": {
      "text/plain": [
       "KNeighborsClassifier(algorithm='auto', leaf_size=30, metric='minkowski',\n",
       "                     metric_params=None, n_jobs=None, n_neighbors=3, p=2,\n",
       "                     weights='uniform')"
      ]
     },
     "execution_count": 55,
     "metadata": {},
     "output_type": "execute_result"
    }
   ],
   "source": [
    "#from sklearn.neighbors import NearestNeighbors\n",
    "#from sklearn.neighbors import KNeighborsClassifier\n",
    "#from sklearn.metrics import accuracy_score\n",
    "neigh = KNeighborsClassifier(n_neighbors=3, algorithm='auto')\n",
    "neigh.fit(x_train, y_train)"
   ]
  },
  {
   "cell_type": "code",
   "execution_count": 56,
   "metadata": {},
   "outputs": [
    {
     "data": {
      "text/plain": [
       "0.76"
      ]
     },
     "execution_count": 56,
     "metadata": {},
     "output_type": "execute_result"
    }
   ],
   "source": [
    "y_pred = neigh.predict(x_test)\n",
    "accuracy_score(y_true=y_test, y_pred=y_pred)"
   ]
  },
  {
   "cell_type": "code",
   "execution_count": 57,
   "metadata": {},
   "outputs": [
    {
     "data": {
      "text/plain": [
       "0.76"
      ]
     },
     "execution_count": 57,
     "metadata": {},
     "output_type": "execute_result"
    }
   ],
   "source": [
    "#from sklearn.metrics import f1_score\n",
    "f1_score(y_true=y_test, y_pred=y_pred, average='micro')"
   ]
  },
  {
   "cell_type": "code",
   "execution_count": 58,
   "metadata": {},
   "outputs": [],
   "source": [
    "import numpy as np\n",
    "from sklearn.utils import shuffle\n",
    "(x_train, y_train), (x_test, y_test) = tf.keras.datasets.mnist.load_data()\n",
    "x_train = x_train[:1800]\n",
    "y_train = y_train[:1800]\n",
    "x_test = x_test[:100]\n",
    "y_test = y_test[:100]\n",
    "x_train_a = np.copy(x_train)\n",
    "#for train in x_train_a:\n",
    " #   salt_and_pepper(train, percent=0.05)\n",
    "x_train_a = augment(x_train)\n",
    "y_train_a = y_train\n",
    "\n",
    "x_train_aug = np.concatenate([x_train, x_train_a])\n",
    "y_train_aug = np.concatenate([y_train, y_train_a])\n",
    "\n",
    "x_train_aug, y_train_aug = shuffle(x_train_aug, y_train_aug)\n",
    "\n",
    "x_test = x_test.reshape((x_test.shape[0], -1))\n",
    "x_train_aug = x_train_aug.reshape((x_train_aug.shape[0], -1))"
   ]
  },
  {
   "cell_type": "code",
   "execution_count": 59,
   "metadata": {},
   "outputs": [
    {
     "name": "stderr",
     "output_type": "stream",
     "text": [
      "C:\\Users\\magk9\\AppData\\Roaming\\Python\\Python37\\site-packages\\sklearn\\model_selection\\_split.py:1978: FutureWarning: The default value of cv will change from 3 to 5 in version 0.22. Specify it explicitly to silence this warning.\n",
      "  warnings.warn(CV_WARNING, FutureWarning)\n"
     ]
    },
    {
     "data": {
      "text/plain": [
       "0.87"
      ]
     },
     "execution_count": 59,
     "metadata": {},
     "output_type": "execute_result"
    }
   ],
   "source": [
    "from sklearn.model_selection import GridSearchCV\n",
    "params = {\n",
    "  'n_neighbors': (2, 3, 5),\n",
    "  'weights': ('uniform', 'distance')\n",
    "}\n",
    "knn = KNeighborsClassifier(algorithm='auto')\n",
    "clf = GridSearchCV(knn, params)\n",
    "clf.fit(x_train_aug, y_train_aug)\n",
    "\n",
    "y_pred_best = clf.predict(x_test)\n",
    "accuracy_score(y_true=y_test, y_pred=y_pred_best)"
   ]
  },
  {
   "cell_type": "code",
   "execution_count": 60,
   "metadata": {},
   "outputs": [
    {
     "data": {
      "text/plain": [
       "0.87"
      ]
     },
     "execution_count": 60,
     "metadata": {},
     "output_type": "execute_result"
    }
   ],
   "source": [
    "from sklearn.metrics import f1_score\n",
    "f1_score(y_true=y_test, y_pred=y_pred_best, average='micro')"
   ]
  },
  {
   "cell_type": "code",
   "execution_count": null,
   "metadata": {},
   "outputs": [],
   "source": []
  },
  {
   "cell_type": "code",
   "execution_count": null,
   "metadata": {},
   "outputs": [],
   "source": []
  },
  {
   "cell_type": "code",
   "execution_count": null,
   "metadata": {},
   "outputs": [],
   "source": []
  }
 ],
 "metadata": {
  "kernelspec": {
   "display_name": "Python 3",
   "language": "python",
   "name": "python3"
  },
  "language_info": {
   "codemirror_mode": {
    "name": "ipython",
    "version": 3
   },
   "file_extension": ".py",
   "mimetype": "text/x-python",
   "name": "python",
   "nbconvert_exporter": "python",
   "pygments_lexer": "ipython3",
   "version": "3.7.6"
  }
 },
 "nbformat": 4,
 "nbformat_minor": 4
}
